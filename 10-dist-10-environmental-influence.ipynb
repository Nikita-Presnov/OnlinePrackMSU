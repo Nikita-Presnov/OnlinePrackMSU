{
 "cells": [
  {
   "cell_type": "markdown",
   "metadata": {},
   "source": [
    "# Влияние среды распространения на форму сигнала и применение антенн для уменьшения искажений\n",
    "\n",
    "Ну если быть точным, то быстрого преобразования фурье на сигнал)"
   ]
  },
  {
   "cell_type": "code",
   "execution_count": 2,
   "metadata": {},
   "outputs": [],
   "source": [
    "# Imort \n",
    "import numpy as np\n",
    "from scipy.fftpack import fft\n",
    "%config InlineBackend.figure_formats = ['svg']\n",
    "import matplotlib.pyplot as plt"
   ]
  },
  {
   "cell_type": "code",
   "execution_count": 16,
   "metadata": {},
   "outputs": [
    {
     "ename": "TypeError",
     "evalue": "'int' object is not callable",
     "output_type": "error",
     "traceback": [
      "\u001b[0;31m---------------------------------------------------------------------------\u001b[0m",
      "\u001b[0;31mTypeError\u001b[0m                                 Traceback (most recent call last)",
      "\u001b[1;32m/mnt/Disk_738/FIS_FUK/9-12_CEM/PRACK/OnlinePrackMSU/10-dist-10-environmental-influence.ipynb Cell 3'\u001b[0m in \u001b[0;36m<cell line: 8>\u001b[0;34m()\u001b[0m\n\u001b[1;32m      <a href='vscode-notebook-cell:/mnt/Disk_738/FIS_FUK/9-12_CEM/PRACK/OnlinePrackMSU/10-dist-10-environmental-influence.ipynb#ch0000002?line=5'>6</a>\u001b[0m base_signal \u001b[39m=\u001b[39m np\u001b[39m.\u001b[39msin(base_t \u001b[39m*\u001b[39m \u001b[39m2\u001b[39m \u001b[39m*\u001b[39m np\u001b[39m.\u001b[39mpi)\n\u001b[1;32m      <a href='vscode-notebook-cell:/mnt/Disk_738/FIS_FUK/9-12_CEM/PRACK/OnlinePrackMSU/10-dist-10-environmental-influence.ipynb#ch0000002?line=6'>7</a>\u001b[0m signal \u001b[39m=\u001b[39m np\u001b[39m.\u001b[39mhstack((np\u001b[39m.\u001b[39mzeros(base_length\u001b[39m*\u001b[39m\u001b[39m3\u001b[39m), base_signal, np\u001b[39m.\u001b[39mzeros(base_length\u001b[39m*\u001b[39m\u001b[39m3\u001b[39m)))\n\u001b[0;32m----> <a href='vscode-notebook-cell:/mnt/Disk_738/FIS_FUK/9-12_CEM/PRACK/OnlinePrackMSU/10-dist-10-environmental-influence.ipynb#ch0000002?line=7'>8</a>\u001b[0m length \u001b[39m=\u001b[39m \u001b[39mlen\u001b[39;49m(signal)\n\u001b[1;32m      <a href='vscode-notebook-cell:/mnt/Disk_738/FIS_FUK/9-12_CEM/PRACK/OnlinePrackMSU/10-dist-10-environmental-influence.ipynb#ch0000002?line=8'>9</a>\u001b[0m t \u001b[39m=\u001b[39m np\u001b[39m.\u001b[39marray([i \u001b[39m/\u001b[39m \u001b[39m2\u001b[39m\u001b[39m*\u001b[39m\u001b[39m*\u001b[39mpermission \u001b[39mfor\u001b[39;00m i \u001b[39min\u001b[39;00m \u001b[39mrange\u001b[39m(\u001b[39mlen\u001b[39m)])\n\u001b[1;32m     <a href='vscode-notebook-cell:/mnt/Disk_738/FIS_FUK/9-12_CEM/PRACK/OnlinePrackMSU/10-dist-10-environmental-influence.ipynb#ch0000002?line=9'>10</a>\u001b[0m plt\u001b[39m.\u001b[39mgrid()\n",
      "\u001b[0;31mTypeError\u001b[0m: 'int' object is not callable"
     ]
    }
   ],
   "source": [
    "# Init\n",
    "E_mormal = 1\n",
    "permission = 7\n",
    "base_length = 2**(permission + 2)\n",
    "base_t = np.array([i / 2**permission for i in range(base_length*2)])\n",
    "base_signal = np.sin(base_t * 2 * np.pi)\n",
    "signal = np.hstack((np.zeros(base_length*3), base_signal, np.zeros(base_length*3)))\n",
    "length = len(signal)\n",
    "t = np.array([i / 2**permission for i in range(len)])\n",
    "plt.grid()\n",
    "plt.plot(signal)"
   ]
  },
  {
   "cell_type": "code",
   "execution_count": null,
   "metadata": {},
   "outputs": [
    {
     "ename": "TypeError",
     "evalue": "'int' object is not callable",
     "output_type": "error",
     "traceback": [
      "\u001b[0;31m---------------------------------------------------------------------------\u001b[0m",
      "\u001b[0;31mTypeError\u001b[0m                                 Traceback (most recent call last)",
      "\u001b[1;32m/mnt/Disk_738/FIS_FUK/9-12_CEM/PRACK/OnlinePrackMSU/10-dist-10-environmental-influence.ipynb Cell 4'\u001b[0m in \u001b[0;36m<cell line: 2>\u001b[0;34m()\u001b[0m\n\u001b[1;32m      <a href='vscode-notebook-cell:/mnt/Disk_738/FIS_FUK/9-12_CEM/PRACK/OnlinePrackMSU/10-dist-10-environmental-influence.ipynb#ch0000003?line=0'>1</a>\u001b[0m FFT_signal \u001b[39m=\u001b[39m np\u001b[39m.\u001b[39mfft\u001b[39m.\u001b[39mfft(signal)\n\u001b[0;32m----> <a href='vscode-notebook-cell:/mnt/Disk_738/FIS_FUK/9-12_CEM/PRACK/OnlinePrackMSU/10-dist-10-environmental-influence.ipynb#ch0000003?line=1'>2</a>\u001b[0m \u001b[39mprint\u001b[39m(\u001b[39mlen\u001b[39;49m(FFT_signal))\n\u001b[1;32m      <a href='vscode-notebook-cell:/mnt/Disk_738/FIS_FUK/9-12_CEM/PRACK/OnlinePrackMSU/10-dist-10-environmental-influence.ipynb#ch0000003?line=2'>3</a>\u001b[0m FFT_len \u001b[39m=\u001b[39m \u001b[39mlen\u001b[39m(FFT_signal)\n\u001b[1;32m      <a href='vscode-notebook-cell:/mnt/Disk_738/FIS_FUK/9-12_CEM/PRACK/OnlinePrackMSU/10-dist-10-environmental-influence.ipynb#ch0000003?line=3'>4</a>\u001b[0m plt\u001b[39m.\u001b[39mgrid()\n",
      "\u001b[0;31mTypeError\u001b[0m: 'int' object is not callable"
     ]
    }
   ],
   "source": [
    "FFT_signal = np.fft.fft(signal)\n",
    "print(FFT_signal.shape)\n",
    "FFT_len = len(FFT_signal)\n",
    "plt.grid()\n",
    "plt.plot(np.abs(FFT_signal[0:250]))"
   ]
  }
 ],
 "metadata": {
  "interpreter": {
   "hash": "da80042ea78051ad9d45515e71bbc121e34b44c369536b51465538a066d0f9fb"
  },
  "kernelspec": {
   "display_name": "Python 3.9.2 ('.venv': venv)",
   "language": "python",
   "name": "python3"
  },
  "language_info": {
   "codemirror_mode": {
    "name": "ipython",
    "version": 3
   },
   "file_extension": ".py",
   "mimetype": "text/x-python",
   "name": "python",
   "nbconvert_exporter": "python",
   "pygments_lexer": "ipython3",
   "version": "3.9.2"
  },
  "orig_nbformat": 4
 },
 "nbformat": 4,
 "nbformat_minor": 2
}
